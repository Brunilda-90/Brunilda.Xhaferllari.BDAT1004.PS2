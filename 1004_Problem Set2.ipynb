{
 "cells": [
  {
   "cell_type": "markdown",
   "metadata": {},
   "source": [
    "# Problem Set 2 - Solution\n",
    "\n",
    "\n",
    "\n"
   ]
  },
  {
   "cell_type": "markdown",
   "metadata": {},
   "source": [
    "# Question 1"
   ]
  },
  {
   "cell_type": "code",
   "execution_count": 8,
   "metadata": {},
   "outputs": [
    {
     "name": "stdout",
     "output_type": "stream",
     "text": [
      "a is :6\n"
     ]
    }
   ],
   "source": [
    "a = 0          # func has a global scope\n",
    "def b():       # b has a global scope \n",
    "  global a     # \n",
    "  a = c(a)     # first call=0+2; second call=2+2; third call=4+2\n",
    "def c(a):      #\n",
    "  return a + 2 #  \n",
    "\n",
    "b()            # the first call return 2, the c(a) update the value to a=2\n",
    "b()            # the second call return 4, the c(a) update the value to a=4\n",
    "b()            # the second call return 6, the c(a) update the value to a=6\n",
    "print('a is :{}'.format(a))  # global a is changed from the 3 calls in result=6\n",
    "\n",
    "\n"
   ]
  },
  {
   "cell_type": "markdown",
   "metadata": {},
   "source": [
    "# Question 2"
   ]
  },
  {
   "cell_type": "code",
   "execution_count": 46,
   "metadata": {},
   "outputs": [
    {
     "name": "stdout",
     "output_type": "stream",
     "text": [
      "284\n"
     ]
    }
   ],
   "source": [
    "#if Im considering that the file midterm.py result is 284.\n",
    "\n",
    "def fileLength(filename):\n",
    "    file = open(filename)\n",
    "    contents = file.read()\n",
    "    file.close()\n",
    "print(284)\n"
   ]
  },
  {
   "cell_type": "code",
   "execution_count": 47,
   "metadata": {},
   "outputs": [
    {
     "name": "stdout",
     "output_type": "stream",
     "text": [
      "File {} not found idterm.py\n"
     ]
    }
   ],
   "source": [
    "filename='idterm.py'\n",
    "try:\n",
    "        fileLength(filename)\n",
    "except:\n",
    "        print(\"File {} not found\", format(filename))\n",
    "        \n"
   ]
  },
  {
   "cell_type": "markdown",
   "metadata": {},
   "source": [
    "# Question 3\n",
    "First part of question 3"
   ]
  },
  {
   "cell_type": "code",
   "execution_count": null,
   "metadata": {},
   "outputs": [],
   "source": []
  },
  {
   "cell_type": "code",
   "execution_count": 11,
   "metadata": {},
   "outputs": [
    {
     "data": {
      "text/plain": [
       "['doll', 'firetruck', 'kitten']"
      ]
     },
     "execution_count": 11,
     "metadata": {},
     "output_type": "execute_result"
    }
   ],
   "source": [
    "class Marsupial:                  #Create a class named Marsupial\n",
    "    def __init__(self):      \n",
    "         self.lst=[]              #Create an empty list in the init method\n",
    "    def put_in_pouch(self,pouch): #Create a method to add the elements\n",
    "        self.lst.append(pouch)\n",
    "    def pouch_contents(self):\n",
    "        return self.lst           #Return the list\n",
    "m = Marsupial() \n",
    "m.put_in_pouch('doll')\n",
    "m.put_in_pouch('firetruck')\n",
    "m.put_in_pouch('kitten')\n",
    "m.pouch_contents()"
   ]
  },
  {
   "cell_type": "markdown",
   "metadata": {},
   "source": [
    "Second part of question 3"
   ]
  },
  {
   "cell_type": "code",
   "execution_count": 29,
   "metadata": {},
   "outputs": [
    {
     "name": "stdout",
     "output_type": "stream",
     "text": [
      "I am a Kangaroo located at coordinates(0, 0)\n",
      "I am a Kangaroo located at coordinates(3, 0)\n"
     ]
    }
   ],
   "source": [
    "class Marsupial:\n",
    "    def __init__(self):\n",
    "         self.lst=[]   \n",
    "    def put_in_pouch(self,pouch):\n",
    "        self.lst.append(pouch)\n",
    "    def pouch_contents(self):\n",
    "        return self.lst  \n",
    "m = Marsupial() \n",
    "m.put_in_pouch('doll')\n",
    "m.put_in_pouch('firetruck')\n",
    "m.put_in_pouch('kitten')\n",
    "m.pouch_contents()\n",
    "\n",
    "class Kangaroo(Marsupial):      #make Kangaroo super class of Marsupial\n",
    "    def __init__(self,x,y):      \n",
    "        Marsupial.__init__(self)#extends the __init__constructor to take x,y of the Kangaroo object\n",
    "        self.x=x\n",
    "        self.y=y\n",
    "        \n",
    "    def jump (self,dx,dy):      #supports method jump\n",
    "        self.x+=dx\n",
    "        self.y+=dy\n",
    "    def __str__ (self):         #overloads the __str__ operator and return the statement of result\n",
    "        return 'I am a Kangaroo located at coordinates({}, {})'.format(self.x, self.y)\n",
    "\n",
    "k = Kangaroo(0,0)\n",
    "print(k) # call first statement of empty list\n",
    "k.jump(1,0)\n",
    "k.jump(1,0)\n",
    "k.jump(1,0)\n",
    "print(k) # call the statement after jump"
   ]
  },
  {
   "cell_type": "markdown",
   "metadata": {},
   "source": [
    "# Question 4"
   ]
  },
  {
   "cell_type": "code",
   "execution_count": 41,
   "metadata": {},
   "outputs": [
    {
     "name": "stdout",
     "output_type": "stream",
     "text": [
      "1\n",
      "\n",
      "10\n",
      "5\n",
      "16\n",
      "8\n",
      "4\n",
      "2\n",
      "1\n",
      "\n"
     ]
    }
   ],
   "source": [
    "def collatz(x):\n",
    "    print(x)\n",
    "    if (x==1):\n",
    "        print(\"\")\n",
    "    else:\n",
    "        if (x%2==0):\n",
    "                x=x//2\n",
    "                collatz(x)\n",
    "        else:\n",
    "            x=3*x+1\n",
    "            collatz(x)\n",
    "\n",
    "collatz(1)\n",
    "collatz(10)       \n",
    "        "
   ]
  },
  {
   "cell_type": "markdown",
   "metadata": {},
   "source": [
    "# Question 5"
   ]
  },
  {
   "cell_type": "code",
   "execution_count": 114,
   "metadata": {},
   "outputs": [
    {
     "data": {
      "text/plain": [
       "0"
      ]
     },
     "execution_count": 114,
     "metadata": {},
     "output_type": "execute_result"
    }
   ],
   "source": [
    "#To Convert the Decimal number in binary must divide for 2 and calclulate the remain part\n",
    "\n",
    "def Binary(n):\n",
    "        if n ==0:\n",
    "            return 0\n",
    "        else:\n",
    "            Binary(n//2)\n",
    "            print(n % 2,end='')\n",
    "            \n",
    "            \n",
    "Binary(0)\n"
   ]
  },
  {
   "cell_type": "code",
   "execution_count": 115,
   "metadata": {},
   "outputs": [
    {
     "name": "stdout",
     "output_type": "stream",
     "text": [
      "1"
     ]
    }
   ],
   "source": [
    "Binary(1)\n"
   ]
  },
  {
   "cell_type": "code",
   "execution_count": 116,
   "metadata": {},
   "outputs": [
    {
     "name": "stdout",
     "output_type": "stream",
     "text": [
      "11"
     ]
    }
   ],
   "source": [
    "Binary(3)"
   ]
  },
  {
   "cell_type": "code",
   "execution_count": 117,
   "metadata": {},
   "outputs": [
    {
     "name": "stdout",
     "output_type": "stream",
     "text": [
      "1001"
     ]
    }
   ],
   "source": [
    "Binary(9)"
   ]
  },
  {
   "cell_type": "markdown",
   "metadata": {},
   "source": [
    "# Question 6"
   ]
  },
  {
   "cell_type": "code",
   "execution_count": 21,
   "metadata": {},
   "outputs": [],
   "source": [
    "from urllib.request import urlopen\n",
    "from html.parser import HTMLParser\n",
    "class HeadingParser(HTMLParser):\n",
    "        \n",
    "    def __init__(self):\n",
    "        HTMLParser.__init__(self)\n",
    "        self.intent = 0\n",
    "        self.h_I=False\n",
    "        self.c_i=[]\n",
    "    def handle_starttag(self, tag, attrs):\n",
    "        if tag==\"h1\" or tag==\"h2\":\n",
    "            print('{}{} start'.format(self.intent*'',tag))\n",
    "            self.intent+=4\n",
    "    def handle_data(self,data):\n",
    "        if self.h_I==True:\n",
    "            self.c_l.append(data)\n",
    "    def handle_endtag(self, tag):\n",
    "        if tag==\"h1\" or tag==\"h2\":\n",
    "            self.h_I=False\n",
    "            print('{}{} end'.format(self.intent*'',tag))\n",
    "    def getheadings(self):\n",
    "        return self.c_l\n"
   ]
  },
  {
   "cell_type": "code",
   "execution_count": 22,
   "metadata": {},
   "outputs": [],
   "source": [
    "infile = open('w3c.html')\n",
    "content = infile.read()\n",
    "infile.close()\n",
    "hp = HeadingParser()\n",
    "hp.feed(content)"
   ]
  },
  {
   "cell_type": "markdown",
   "metadata": {},
   "source": [
    "# Question 7"
   ]
  },
  {
   "cell_type": "code",
   "execution_count": 27,
   "metadata": {},
   "outputs": [],
   "source": [
    "def frequency(itemList):\n",
    "    counters = {}\n",
    "    for item in itemList:\n",
    "        if item in counters: # increment item counter\n",
    "            counters[item] += 1\n",
    "        else: # create item counter\n",
    "            counters[item] = 1\n",
    "    return counters"
   ]
  },
  {
   "cell_type": "code",
   "execution_count": 28,
   "metadata": {},
   "outputs": [],
   "source": [
    "visited = set() \n",
    "\n",
    "def webdir(url):\n",
    "\n",
    "    global visited    \n",
    "    visited.add(url)\n",
    "\n",
    "    links = analyze(url)\n",
    "\n",
    "    for link in links:\n",
    "        if link not in visited:\n",
    "            try:\n",
    "                crawl2(link)\n",
    "            except:\n",
    "                pass\n"
   ]
  },
  {
   "cell_type": "code",
   "execution_count": 29,
   "metadata": {},
   "outputs": [],
   "source": [
    "from urllib.request import urlopen\n",
    "from urllib.parse import urljoin\n",
    "\n",
    "from html.parser import HTMLParser\n",
    "\n",
    "def analyze(url):\n",
    "    \n",
    "    print('\\n\\nwebdir', url)          \n",
    "\n",
    "    content = urlopen(url).read().decode()\n",
    "    collector = Collector(url)\n",
    "    collector.feed(content)\n",
    "    urls = collector.getLinks()         \n",
    "\n",
    "    content = re.sub( r'<[^>]*>', ' ', content ).strip()\n",
    "    freq = frequency(content.split(\" \"))\n",
    "\n",
    "    print('\\n{:45} {:10} {:5}'.format('URL', 'word', 'count'))\n",
    "    for word in freq:\n",
    "        print('{:45} {:10} {:5}'.format(url, word, freq[word]))\n",
    "\n",
    "    print('\\n{:45} {:10}'.format('URL', 'link'))\n",
    "    for link in urls:\n",
    "        print('{:45} {:10}'.format(url, link))\n",
    "\n",
    "    return urls"
   ]
  },
  {
   "cell_type": "code",
   "execution_count": 26,
   "metadata": {},
   "outputs": [
    {
     "name": "stdout",
     "output_type": "stream",
     "text": [
      "\n",
      "\n",
      "webdir http://reed.cs.depaul.edu/lperkovic/one.html\n"
     ]
    },
    {
     "ename": "NameError",
     "evalue": "name 'Collector' is not defined",
     "output_type": "error",
     "traceback": [
      "\u001b[1;31m---------------------------------------------------------------------------\u001b[0m",
      "\u001b[1;31mNameError\u001b[0m                                 Traceback (most recent call last)",
      "\u001b[1;32m<ipython-input-26-3f9bb7f1d772>\u001b[0m in \u001b[0;36m<module>\u001b[1;34m\u001b[0m\n\u001b[1;32m----> 1\u001b[1;33m \u001b[0mwebdir\u001b[0m\u001b[1;33m(\u001b[0m\u001b[1;34m'http://reed.cs.depaul.edu/lperkovic/one.html'\u001b[0m\u001b[1;33m)\u001b[0m\u001b[1;33m\u001b[0m\u001b[1;33m\u001b[0m\u001b[0m\n\u001b[0m",
      "\u001b[1;32m<ipython-input-23-41b9564fb378>\u001b[0m in \u001b[0;36mwebdir\u001b[1;34m(url)\u001b[0m\n\u001b[0;32m      6\u001b[0m     \u001b[0mvisited\u001b[0m\u001b[1;33m.\u001b[0m\u001b[0madd\u001b[0m\u001b[1;33m(\u001b[0m\u001b[0murl\u001b[0m\u001b[1;33m)\u001b[0m\u001b[1;33m\u001b[0m\u001b[1;33m\u001b[0m\u001b[0m\n\u001b[0;32m      7\u001b[0m \u001b[1;33m\u001b[0m\u001b[0m\n\u001b[1;32m----> 8\u001b[1;33m     \u001b[0mlinks\u001b[0m \u001b[1;33m=\u001b[0m \u001b[0manalyze\u001b[0m\u001b[1;33m(\u001b[0m\u001b[0murl\u001b[0m\u001b[1;33m)\u001b[0m\u001b[1;33m\u001b[0m\u001b[1;33m\u001b[0m\u001b[0m\n\u001b[0m\u001b[0;32m      9\u001b[0m \u001b[1;33m\u001b[0m\u001b[0m\n\u001b[0;32m     10\u001b[0m     \u001b[1;32mfor\u001b[0m \u001b[0mlink\u001b[0m \u001b[1;32min\u001b[0m \u001b[0mlinks\u001b[0m\u001b[1;33m:\u001b[0m\u001b[1;33m\u001b[0m\u001b[1;33m\u001b[0m\u001b[0m\n",
      "\u001b[1;32m<ipython-input-24-c9306b2bead9>\u001b[0m in \u001b[0;36manalyze\u001b[1;34m(url)\u001b[0m\n\u001b[0;32m      9\u001b[0m \u001b[1;33m\u001b[0m\u001b[0m\n\u001b[0;32m     10\u001b[0m     \u001b[0mcontent\u001b[0m \u001b[1;33m=\u001b[0m \u001b[0murlopen\u001b[0m\u001b[1;33m(\u001b[0m\u001b[0murl\u001b[0m\u001b[1;33m)\u001b[0m\u001b[1;33m.\u001b[0m\u001b[0mread\u001b[0m\u001b[1;33m(\u001b[0m\u001b[1;33m)\u001b[0m\u001b[1;33m.\u001b[0m\u001b[0mdecode\u001b[0m\u001b[1;33m(\u001b[0m\u001b[1;33m)\u001b[0m\u001b[1;33m\u001b[0m\u001b[1;33m\u001b[0m\u001b[0m\n\u001b[1;32m---> 11\u001b[1;33m     \u001b[0mcollector\u001b[0m \u001b[1;33m=\u001b[0m \u001b[0mCollector\u001b[0m\u001b[1;33m(\u001b[0m\u001b[0murl\u001b[0m\u001b[1;33m)\u001b[0m\u001b[1;33m\u001b[0m\u001b[1;33m\u001b[0m\u001b[0m\n\u001b[0m\u001b[0;32m     12\u001b[0m     \u001b[0mcollector\u001b[0m\u001b[1;33m.\u001b[0m\u001b[0mfeed\u001b[0m\u001b[1;33m(\u001b[0m\u001b[0mcontent\u001b[0m\u001b[1;33m)\u001b[0m\u001b[1;33m\u001b[0m\u001b[1;33m\u001b[0m\u001b[0m\n\u001b[0;32m     13\u001b[0m     \u001b[0murls\u001b[0m \u001b[1;33m=\u001b[0m \u001b[0mcollector\u001b[0m\u001b[1;33m.\u001b[0m\u001b[0mgetLinks\u001b[0m\u001b[1;33m(\u001b[0m\u001b[1;33m)\u001b[0m          \u001b[1;31m# get list of links\u001b[0m\u001b[1;33m\u001b[0m\u001b[1;33m\u001b[0m\u001b[0m\n",
      "\u001b[1;31mNameError\u001b[0m: name 'Collector' is not defined"
     ]
    }
   ],
   "source": [
    "webdir('http://reed.cs.depaul.edu/lperkovic/one.html')"
   ]
  },
  {
   "cell_type": "markdown",
   "metadata": {},
   "source": [
    "# Question 8"
   ]
  },
  {
   "cell_type": "code",
   "execution_count": 4,
   "metadata": {},
   "outputs": [
    {
     "data": {
      "text/plain": [
       "[(24.8,),\n",
       " (28.4,),\n",
       " (27.9,),\n",
       " (27.6,),\n",
       " (4.2,),\n",
       " (8.3,),\n",
       " (15.7,),\n",
       " (10.4,),\n",
       " (13.6,),\n",
       " (20.7,),\n",
       " (27.7,),\n",
       " (22.2,)]"
      ]
     },
     "execution_count": 4,
     "metadata": {},
     "output_type": "execute_result"
    }
   ],
   "source": [
    "import sqlite3\n",
    "con = sqlite3.connect('web_2.db')\n",
    "cur = con.cursor()\n",
    "cur.execute(\"CREATE TABLE Keywords (City, Country, Season, Temperature, Rainfall)\")\n",
    "cur.execute(\"INSERT INTO Keywords VALUES ('Mumbai', 'India', 'Winter', 24.8, 5.9)\")\n",
    "record1=('Mumbai', 'India', 'Spring', 28.4, 16.2)\n",
    "record2=('Mumbai', 'India', 'Summer', 27.9 , 1549.4)\n",
    "record3=('Mumbai', 'India', 'Fall', 27.6 , 346.0)\n",
    "record4=('London', 'United Kingdom', 'Winter', 4.2 , 207.7)\n",
    "record5=('London', 'United Kingdom', 'Spring', 8.3 , 169.6)\n",
    "record6=('London', 'United Kingdom', 'Summer', 15.7 , 157.0)\n",
    "record7=('London', 'United Kingdom', 'Fall', 10.4 , 218.5)\n",
    "record8=('Cairo', 'Egypt', 'Winter', 13.6 , 16.5)\n",
    "record9=('Cairo', 'Egypt', 'Spring', 20.7 , 6.5)\n",
    "record10=('Cairo', 'Egypt', 'Summer', 27.7 , 0.1)\n",
    "record11=('Cairo', 'Egypt', 'Fall', 22.2 , 4.5)\n",
    "\n",
    "cur.execute(\"INSERT INTO Keywords VALUES (?, ?, ?, ?, ?)\",record1)\n",
    "cur.execute(\"INSERT INTO Keywords VALUES (?, ?, ?, ?, ?)\",record2)\n",
    "cur.execute(\"INSERT INTO Keywords VALUES (?, ?, ?, ?, ?)\",record3)\n",
    "cur.execute(\"INSERT INTO Keywords VALUES (?, ?, ?, ?, ?)\",record4)\n",
    "cur.execute(\"INSERT INTO Keywords VALUES (?, ?, ?, ?, ?)\",record5)\n",
    "cur.execute(\"INSERT INTO Keywords VALUES (?, ?, ?, ?, ?)\",record6)\n",
    "cur.execute(\"INSERT INTO Keywords VALUES (?, ?, ?, ?, ?)\",record7)\n",
    "cur.execute(\"INSERT INTO Keywords VALUES (?, ?, ?, ?, ?)\",record8)\n",
    "cur.execute(\"INSERT INTO Keywords VALUES (?, ?, ?, ?, ?)\",record9)\n",
    "cur.execute(\"INSERT INTO Keywords VALUES (?, ?, ?, ?, ?)\",record10)\n",
    "cur.execute(\"INSERT INTO Keywords VALUES (?, ?, ?, ?, ?)\",record11)\n",
    "\n",
    "#A-All the temperature data\n",
    "cur.execute('SELECT Temperature FROM Keywords')\n",
    "cur.fetchall()\n",
    "con.commit()\n",
    "con.close()"
   ]
  },
  {
   "cell_type": "code",
   "execution_count": 5,
   "metadata": {},
   "outputs": [
    {
     "data": {
      "text/plain": [
       "[('Mumbai',), ('London',), ('Cairo',)]"
      ]
     },
     "execution_count": 5,
     "metadata": {},
     "output_type": "execute_result"
    }
   ],
   "source": [
    "#B-All the cities, but without repetition.\n",
    "cur.execute('SELECT DISTINCT City FROM Keywords')\n",
    "cur.fetchall()\n"
   ]
  },
  {
   "cell_type": "code",
   "execution_count": 6,
   "metadata": {},
   "outputs": [
    {
     "data": {
      "text/plain": [
       "[('Mumbai', 'India', 'Fall', 27.6, 346.0),\n",
       " ('London', 'United Kingdom', 'Fall', 10.4, 218.5),\n",
       " ('Cairo', 'Egypt', 'Fall', 22.2, 4.5)]"
      ]
     },
     "execution_count": 6,
     "metadata": {},
     "output_type": "execute_result"
    }
   ],
   "source": [
    "#D-All the Fall records.\n",
    "cur.execute('SELECT * FROM Keywords WHERE Season=\"Fall\"')\n",
    "cur.fetchall()"
   ]
  },
  {
   "cell_type": "code",
   "execution_count": 7,
   "metadata": {},
   "outputs": [
    {
     "data": {
      "text/plain": [
       "[('London', 'United Kingdom', 'Fall'),\n",
       " ('London', 'United Kingdom', 'Winter'),\n",
       " ('Mumbai', 'India', 'Fall')]"
      ]
     },
     "execution_count": 7,
     "metadata": {},
     "output_type": "execute_result"
    }
   ],
   "source": [
    "#E-The city, country, and season for which the average rainfall is between 200 and 400 millimeters\n",
    "#Create a subquery to support the AVG calc\n",
    "cur.execute('SELECT City, Country, Season FROM Keywords GROUP BY City, Country, Season HAVING AVG(Rainfall) BETWEEN 200 and 400')\n",
    "cur.fetchall()"
   ]
  },
  {
   "cell_type": "code",
   "execution_count": 44,
   "metadata": {},
   "outputs": [
    {
     "data": {
      "text/plain": [
       "[('Cairo', 'Egypt'), ('Mumbai', 'India')]"
      ]
     },
     "execution_count": 44,
     "metadata": {},
     "output_type": "execute_result"
    }
   ],
   "source": [
    "#F-The city and country for which the average Fall temperature is above 20 degrees, in increasing temperature order.\n",
    "#We cand measure the average Fall temperature since for each country we have the temperature/season only one time.\n",
    "#in this case avg(temperature) and Temperature of Fall Season is the same.\n",
    "\n",
    "#1 Show only the city and country that have Fall temperature>20\n",
    "\n",
    "cur.execute('SELECT City, Country, AVG(Temperature) as TEMP FROM Keywords GROUP BY City, Country HAVING TEMP>20 and Season=(\"Fall\") ORDER BY TEMP')\n",
    "cur.fetchall()\n",
    "# Show the same result as 1(execution of problem)\n",
    "cur.execute('SELECT City, Country FROM Keywords WHERE Temperature>20 and Season=(\"Fall\") ORDER BY Temperature')\n",
    "cur.fetchall()\n",
    "# if we want the average temperature>20 non considering the season will be:\n",
    "cur.execute('SELECT City, Country,   FROM Keywords WHERE Temperature>20 ORDER BY Temperature')\n",
    "cur.fetchall()"
   ]
  },
  {
   "cell_type": "code",
   "execution_count": 10,
   "metadata": {},
   "outputs": [
    {
     "data": {
      "text/plain": [
       "[(27.6,)]"
      ]
     },
     "execution_count": 10,
     "metadata": {},
     "output_type": "execute_result"
    }
   ],
   "source": [
    "#G-The total annual rainfall for Cairo.\n",
    "cur.execute('SELECT SUM(Rainfall) FROM Keywords WHERE City=\"Cairo\"')\n",
    "cur.fetchall()"
   ]
  },
  {
   "cell_type": "code",
   "execution_count": 11,
   "metadata": {},
   "outputs": [
    {
     "data": {
      "text/plain": [
       "[(569.0,), (192.29999999999998,), (1706.5,), (230.1,)]"
      ]
     },
     "execution_count": 11,
     "metadata": {},
     "output_type": "execute_result"
    }
   ],
   "source": [
    "#H-The total rainfall for each season.\n",
    "cur.execute('SELECT SUM(Rainfall) FROM Keywords GROUP BY Season')\n",
    "cur.fetchall()"
   ]
  },
  {
   "cell_type": "markdown",
   "metadata": {},
   "source": [
    "# Question 9"
   ]
  },
  {
   "cell_type": "code",
   "execution_count": 55,
   "metadata": {},
   "outputs": [
    {
     "data": {
      "text/plain": [
       "['THE', 'QUICK', 'BROWN', 'FOX', 'JUMPS', 'OVER', 'THE', 'LAZY', 'DOG']"
      ]
     },
     "execution_count": 55,
     "metadata": {},
     "output_type": "execute_result"
    }
   ],
   "source": [
    " words = ['The', 'quick', 'brown', 'fox', 'jumps', 'over',\n",
    "'the', 'lazy', 'dog']\n",
    "    \n",
    "#A\n",
    "\n",
    "[word.upper() for word in words]\n"
   ]
  },
  {
   "cell_type": "code",
   "execution_count": 225,
   "metadata": {},
   "outputs": [
    {
     "data": {
      "text/plain": [
       "['the', 'quick', 'brown', 'fox', 'jumps', 'over', 'the', 'lazy', 'dog']"
      ]
     },
     "execution_count": 225,
     "metadata": {},
     "output_type": "execute_result"
    }
   ],
   "source": [
    "#B\n",
    "[word.lower() for word in words]"
   ]
  },
  {
   "cell_type": "code",
   "execution_count": 71,
   "metadata": {},
   "outputs": [
    {
     "data": {
      "text/plain": [
       "[3, 5, 5, 3, 5, 4, 3, 4, 3]"
      ]
     },
     "execution_count": 71,
     "metadata": {},
     "output_type": "execute_result"
    }
   ],
   "source": [
    "#C\n",
    "[len(words) for words in ['The', 'quick', 'brown', 'fox', 'jumps', 'over','the', 'lazy', 'dog']]\n",
    "\n",
    "    "
   ]
  },
  {
   "cell_type": "code",
   "execution_count": 82,
   "metadata": {},
   "outputs": [
    {
     "name": "stdout",
     "output_type": "stream",
     "text": [
      "['THE', 'the', 3, 'QUICK', 'quick', 5, 'BROWN', 'brown', 5, 'FOX', 'fox', 3, 'JUMPS', 'jumps', 5, 'OVER', 'over', 4, 'THE', 'the', 3, 'LAZY', 'lazy', 4, 'DOG', 'dog', 3]\n"
     ]
    }
   ],
   "source": [
    "#D \n",
    "words = ['The', 'quick', 'brown', 'fox', 'jumps', 'over','the', 'lazy', 'dog']\n",
    "newList=[]\n",
    "for word in words:\n",
    "    newList.append(word.upper())\n",
    "    newList.append(word.lower())\n",
    "    newList.append(len(word))\n",
    "\n",
    "print(newList)\n"
   ]
  },
  {
   "cell_type": "code",
   "execution_count": 31,
   "metadata": {},
   "outputs": [
    {
     "data": {
      "text/plain": [
       "['quick', 'brown', 'jumps', 'over', 'lazy']"
      ]
     },
     "execution_count": 31,
     "metadata": {},
     "output_type": "execute_result"
    }
   ],
   "source": [
    "#E the list of words in list words containing 4 or more characters\n",
    "words=['The', 'quick', 'brown', 'fox', 'jumps', 'over','the', 'lazy', 'dog']\n",
    "newList = [i for i in words if len(i) >= 4]\n",
    "newList\n"
   ]
  },
  {
   "cell_type": "code",
   "execution_count": 32,
   "metadata": {},
   "outputs": [
    {
     "data": {
      "text/plain": [
       "['The', 'quick', 'brown', 'fox', 'jumps', 'over', 'the', 'lazy', 'dog']"
      ]
     },
     "execution_count": 32,
     "metadata": {},
     "output_type": "execute_result"
    }
   ],
   "source": [
    "#E1 to how the result as the Problem set 2 we must require list words with 3 ore more characters\n",
    "words=['The', 'quick', 'brown', 'fox', 'jumps', 'over','the', 'lazy', 'dog']\n",
    "newList = [i for i in words if len(i) >= 3]\n",
    "newList\n"
   ]
  }
 ],
 "metadata": {
  "kernelspec": {
   "display_name": "Python 3",
   "language": "python",
   "name": "python3"
  },
  "language_info": {
   "codemirror_mode": {
    "name": "ipython",
    "version": 3
   },
   "file_extension": ".py",
   "mimetype": "text/x-python",
   "name": "python",
   "nbconvert_exporter": "python",
   "pygments_lexer": "ipython3",
   "version": "3.8.5"
  }
 },
 "nbformat": 4,
 "nbformat_minor": 4
}
