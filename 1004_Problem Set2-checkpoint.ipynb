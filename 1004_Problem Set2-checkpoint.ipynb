{
 "cells": [
  {
   "cell_type": "markdown",
   "metadata": {},
   "source": [
    "# Problem Set 2\n",
    "\n",
    "\n",
    "\n"
   ]
  },
  {
   "cell_type": "markdown",
   "metadata": {},
   "source": [
    "# Question 1"
   ]
  },
  {
   "cell_type": "code",
   "execution_count": 8,
   "metadata": {},
   "outputs": [
    {
     "name": "stdout",
     "output_type": "stream",
     "text": [
      "a is :6\n"
     ]
    }
   ],
   "source": [
    "a = 0          #since a is outside the func has a global scope\n",
    "def b():       #b has a global scope \n",
    "  global a     # the c inside the function has a global scope\n",
    "  a = c(a)     # first call=0+2; second call=2+2; third call=4+2\n",
    "def c(a):      #\n",
    "  return a + 2 # first \n",
    "\n",
    "b()            # the first call return 2, the c(a) update the value to a=2\n",
    "b()            # the second call return 4, the c(a) update the value to a=4\n",
    "b()            # the second call return 6, the c(a) update the value to a=6\n",
    "print('a is :{}'.format(a))  # global a is changed from the 3 calls in result=6\n",
    "\n",
    "\n"
   ]
  },
  {
   "cell_type": "markdown",
   "metadata": {},
   "source": [
    "# Question 2"
   ]
  },
  {
   "cell_type": "code",
   "execution_count": null,
   "metadata": {},
   "outputs": [],
   "source": [
    "def fileLength('midterm.py'):\n",
    "    try:\n",
    "        file = open('midterm.py')\n",
    "        contents=file.read()\n",
    "        file.close()\n",
    "        print(len(contents))\n",
    "\n",
    "    except: \n",
    "    print('File midterm.py not found')\n",
    "\n",
    "def fileLength('idterm.py'):\n",
    "    try:\n",
    "        file = open(idterm.py)\n",
    "        contents=file.read()\n",
    "        file.close()\n",
    "        print(len(contents))\n",
    "    \n",
    "    except: \n",
    "    print('File idterm.py not found')"
   ]
  },
  {
   "cell_type": "markdown",
   "metadata": {},
   "source": [
    "# Question 3"
   ]
  },
  {
   "cell_type": "code",
   "execution_count": null,
   "metadata": {},
   "outputs": [],
   "source": [
    "# Write a class named Marsupial that can be used as shown below:\n",
    "\n",
    "class Marsupial:\n",
    "                  \n",
    "    def __init__(self):\n",
    "        \n",
    "        self.lst=[]         # create an empty list to add the name in the second step\n",
    "          \n",
    "    def put_in_pouch(self,pouch):\n",
    "        m = Marsupial()   # convension\n",
    "        m.put_in_pouch('doll')\n",
    "        m.put_in_pouch('firetruck')\n",
    "        m.put_in_pouch('kitten')\n",
    "    def  pouch_contents (self,contents)\n",
    "        m.pouch_contents()\n",
    "        print(self,contents)"
   ]
  },
  {
   "cell_type": "markdown",
   "metadata": {},
   "source": [
    "# Question 4"
   ]
  },
  {
   "cell_type": "code",
   "execution_count": 11,
   "metadata": {},
   "outputs": [
    {
     "ename": "SyntaxError",
     "evalue": "invalid syntax (<ipython-input-11-d561217b71dc>, line 5)",
     "output_type": "error",
     "traceback": [
      "\u001b[1;36m  File \u001b[1;32m\"<ipython-input-11-d561217b71dc>\"\u001b[1;36m, line \u001b[1;32m5\u001b[0m\n\u001b[1;33m    return 3𝑥+1\u001b[0m\n\u001b[1;37m            ^\u001b[0m\n\u001b[1;31mSyntaxError\u001b[0m\u001b[1;31m:\u001b[0m invalid syntax\n"
     ]
    }
   ],
   "source": [
    "def collatz(x):\n",
    "    if x>2:\n",
    "        return x//2\n",
    "    else:\n",
    "        return 3𝑥+1\n",
    "collatz(10) "
   ]
  },
  {
   "cell_type": "markdown",
   "metadata": {},
   "source": [
    "# Question 5"
   ]
  },
  {
   "cell_type": "code",
   "execution_count": null,
   "metadata": {},
   "outputs": [],
   "source": [
    "def binary(n):\n",
    "    if n==0:\n",
    "        return 1\n",
    "    else\n",
    "        "
   ]
  }
 ],
 "metadata": {
  "kernelspec": {
   "display_name": "Python 3",
   "language": "python",
   "name": "python3"
  },
  "language_info": {
   "codemirror_mode": {
    "name": "ipython",
    "version": 3
   },
   "file_extension": ".py",
   "mimetype": "text/x-python",
   "name": "python",
   "nbconvert_exporter": "python",
   "pygments_lexer": "ipython3",
   "version": "3.8.5"
  }
 },
 "nbformat": 4,
 "nbformat_minor": 4
}
